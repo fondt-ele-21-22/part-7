{
 "cells": [
  {
   "cell_type": "markdown",
   "metadata": {
    "slideshow": {
     "slide_type": "subslide"
    }
   },
   "source": [
    "## Esercizio: Modello di Shepherd\n",
    "\n",
    "**Il modello di popolazione _Shepherd_ è definito dalla ricorsione:**\n",
    "\n",
    "$$\n",
    "x_{k+1} = \\frac{r x_k}{1 + \\left(\\frac{x_k}{N}\\right)^2}\n",
    "$$\n",
    "\n",
    "* Dove:\n",
    "  - $x_k$ è il valore della popolazione al passo $k$\n",
    "  - $r > 0$ è il tasso di crescita\n",
    "  - $N$ è un valore di popolazione che, se raggiunto, dimezza $r$"
   ]
  },
  {
   "cell_type": "markdown",
   "metadata": {
    "slideshow": {
     "slide_type": "subslide"
    }
   },
   "source": [
    "## Esercizio: Modello di Shepherd\n",
    "\n",
    "**Nel modulo `sol.shepherd.py`, si definisca la classe:**\n",
    "\n",
    "```python\n",
    "class ShepherdState:\n",
    "    def __init__(self, x, r, N=1): ...\n",
    "    \n",
    "    def nextState(self): ...\n",
    "    \n",
    "    def __repr__(self): ...\n",
    "```\n",
    "\n",
    "* Che rappresenti uno stato del modello di Shepherd\n",
    "* ...Utilizzando l'approccio già visto per la crescita logistica\n",
    "\n",
    "**Si collaudi la classe nella cella seguente**"
   ]
  },
  {
   "cell_type": "code",
   "execution_count": 2,
   "metadata": {},
   "outputs": [
    {
     "name": "stdout",
     "output_type": "stream",
     "text": [
      "The autoreload extension is already loaded. To reload it, use:\n",
      "  %reload_ext autoreload\n"
     ]
    }
   ],
   "source": [
    "%load_ext autoreload\n",
    "%autoreload 2"
   ]
  },
  {
   "cell_type": "markdown",
   "metadata": {
    "slideshow": {
     "slide_type": "subslide"
    }
   },
   "source": [
    "## Esercizio: Modello di Shepherd\n",
    "\n",
    "**Utilizzando i valori suggeriti, si disegni l'andamento della popolazione**\n",
    "\n",
    "Allo scopo, si utilizzino le funzioni `simulate` e `plot_sim` dal modulo `example.sim.py`"
   ]
  },
  {
   "cell_type": "code",
   "execution_count": 2,
   "metadata": {},
   "outputs": [
    {
     "data": {
      "image/png": "[encoded data removed]",
      "text/plain": [
       "<Figure size 1440x288 with 1 Axes>"
      ]
     },
     "metadata": {
      "needs_background": "light"
     },
     "output_type": "display_data"
    }
   ],
   "source": [
    "x0 = 0.1\n",
    "r = 2.0\n",
    "N = 1\n",
    "n = 100"
   ]
  }
 ],
 "metadata": {
  "celltoolbar": "Slideshow",
  "kernelspec": {
   "display_name": "Python 3 (ipykernel)",
   "language": "python",
   "name": "python3"
  },
  "language_info": {
   "codemirror_mode": {
    "name": "ipython",
    "version": 3
   },
   "file_extension": ".py",
   "mimetype": "text/x-python",
   "name": "python",
   "nbconvert_exporter": "python",
   "pygments_lexer": "ipython3",
   "version": "3.9.5"
  },
  "rise": {
   "center": false,
   "enable_chalkboard": true,
   "transition": "fade"
  }
 },
 "nbformat": 4,
 "nbformat_minor": 4
}
