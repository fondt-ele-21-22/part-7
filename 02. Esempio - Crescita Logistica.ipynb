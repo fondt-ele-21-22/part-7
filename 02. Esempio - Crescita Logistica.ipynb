{
 "cells": [
  {
   "cell_type": "markdown",
   "metadata": {
    "slideshow": {
     "slide_type": "subslide"
    }
   },
   "source": [
    "## Esempio: Crescita Logistica\n",
    "\n",
    "**Consideriamo di nuovo il modello di crescita logistica**\n",
    "\n",
    "...Che è definito della ricorsione:\n",
    "\n",
    "$$\n",
    "x_{k+1} = r x_k \\left( 1 - \\frac{x_k}{N} \\right)\n",
    "$$\n",
    "\n",
    "Dove:\n",
    "\n",
    "* $x_k$ è la dimensione della popolazione al passo $k$\n",
    "* $r$ è il tasso di crescita\n",
    "* $N$ la massima popolazione sostenibile"
   ]
  },
  {
   "cell_type": "markdown",
   "metadata": {
    "slideshow": {
     "slide_type": "subslide"
    }
   },
   "source": [
    "## Esempio: Crescita Logistica\n",
    "\n",
    "**Abbiamo già ottenuto un \"simulatore\" basato su di esso:**"
   ]
  },
  {
   "cell_type": "code",
   "execution_count": 1,
   "metadata": {},
   "outputs": [
    {
     "name": "stdout",
     "output_type": "stream",
     "text": [
      "[0.5, 0.35, 0.31849999999999995, 0.3038808499999999, 0.29615219060458847]\n"
     ]
    }
   ],
   "source": [
    "def logi(x0, r, N, n):\n",
    "    res = [x0]\n",
    "    x = x0\n",
    "    for k in range(1, n+1):\n",
    "        x = r * x * (1 - x / N) # Prossimo valore\n",
    "        res += [x] # Estensione della lista\n",
    "    return res\n",
    "\n",
    "x0, r, N = 0.5, 1.4, 1\n",
    "n = 4\n",
    "print(logi(x0, r, N, n))"
   ]
  },
  {
   "cell_type": "markdown",
   "metadata": {},
   "source": [
    "**Proviamo a migliorarlo facendo usi di classi e metodi**"
   ]
  },
  {
   "cell_type": "markdown",
   "metadata": {
    "slideshow": {
     "slide_type": "subslide"
    }
   },
   "source": [
    "## Esempio: Crescita Logistica\n",
    "\n",
    "**Iniziamo sostituendo il concatemento con una chiamata ad `append`**"
   ]
  },
  {
   "cell_type": "code",
   "execution_count": 2,
   "metadata": {},
   "outputs": [
    {
     "name": "stdout",
     "output_type": "stream",
     "text": [
      "[0.5, 0.35, 0.31849999999999995, 0.3038808499999999, 0.29615219060458847]\n"
     ]
    }
   ],
   "source": [
    "def logi(x0, r, N, n):\n",
    "    res = [x0]\n",
    "    x = x0\n",
    "    for k in range(1, n+1):\n",
    "        x = r * x * (1 - x / N) # Prossimo valore\n",
    "        res.append(x) # <-- Uso append per evitare di copiare la lista\n",
    "    return res\n",
    "\n",
    "x0, r, N = 0.5, 1.4, 1\n",
    "n = 4\n",
    "print(logi(x0, r, N, n))"
   ]
  },
  {
   "cell_type": "markdown",
   "metadata": {},
   "source": [
    "* Il codice è più leggibile ed efficiente (non è necessario copiare la lista)\n"
   ]
  },
  {
   "cell_type": "markdown",
   "metadata": {
    "slideshow": {
     "slide_type": "subslide"
    }
   },
   "source": [
    "## Esempio: Crescita Logistica\n",
    "\n",
    "**Vediamo ora una modifica più consistente**\n",
    "\n",
    "Tutti i codici di simulazione visti finora hanno una _struttura molto simile_\n",
    "\n",
    "* A partire da uno stato iniziale\n",
    "* Si applica una ricorsione\n",
    "* ...E si restituisce la sequenza degli stati visitati\n",
    "\n",
    "**In pratica ogni sistema dinamico tempo discreto può essere visto nella forma**\n",
    "\n",
    "$$\n",
    "x_{k+1} = f(x_k)\n",
    "$$\n",
    "\n",
    "Da modello a modello cambiano solo due cose:\n",
    "\n",
    "* I parametri utilizzati ed il loro significato\n",
    "* La _funzione di transizione $f$_"
   ]
  },
  {
   "cell_type": "markdown",
   "metadata": {
    "slideshow": {
     "slide_type": "subslide"
    }
   },
   "source": [
    "## Esempio: Crescita Logistica\n",
    "\n",
    "**Il codice di simulazione ha quindi lo pseudo-codice seguente:**\n",
    "\n",
    "* $X_0 = x_0$\n",
    "* $\\text{for } i = \\{1, \\ldots n\\}$:\n",
    "  - $X_k = f(X_{k-1})$\n",
    "\n",
    "**Utilizzando le classi possiamo:**\n",
    "\n",
    "* Definire lo stato come una classe\n",
    "* Definire la funzione di transizione come metodo\n",
    "* Separare il codice di simulazione\n",
    "* ...Rendendolo completamente riutilizzabile"
   ]
  },
  {
   "cell_type": "markdown",
   "metadata": {
    "slideshow": {
     "slide_type": "subslide"
    }
   },
   "source": [
    "## Esempio: Crescita Logistica\n",
    "\n",
    "**Per prima cosa, introduciamo una classe per rappresentare lo stato**\n",
    "\n",
    "Questa parte dipende dal modello"
   ]
  },
  {
   "cell_type": "code",
   "execution_count": 3,
   "metadata": {},
   "outputs": [],
   "source": [
    "class LogiState:\n",
    "    def __init__(self, x, r, N=1):\n",
    "        self.x = x\n",
    "        self.r = r\n",
    "        self.N = N\n",
    "    \n",
    "    def nextState(self):\n",
    "        x, r, N = self.x, self.r, self.N # Rinomino per compattezza\n",
    "        xnext = r * x * (1 - x / N) # Calcolo il prossimo stato\n",
    "        return LogiState(xnext, r, N)\n",
    "    \n",
    "    def __repr__(self):\n",
    "        return f'LogiState(x={self.x}, r={self.r}, N={self.N})'"
   ]
  },
  {
   "cell_type": "markdown",
   "metadata": {},
   "source": [
    "* Una istanza di `LogiState` rappresenta uno stato della popolazione\n",
    "* Il metodo `nextState` calcola e restituisce il prossimo stato"
   ]
  },
  {
   "cell_type": "markdown",
   "metadata": {
    "slideshow": {
     "slide_type": "subslide"
    }
   },
   "source": [
    "## Esempio: Crescita Logistica\n",
    "\n",
    "**Possiamo ora definire il codice di simulazione**\n",
    "\n",
    "...In modo _indipendente dal modello_:"
   ]
  },
  {
   "cell_type": "code",
   "execution_count": 4,
   "metadata": {},
   "outputs": [],
   "source": [
    "def simulate(x0, n):\n",
    "    res = [x0]\n",
    "    for i in range(1, n+1):\n",
    "        xnext = res[-1].nextState() # Ottenfo il prossimo stato\n",
    "        res.append(xnext) # Memorizzo lo stato\n",
    "    return res"
   ]
  },
  {
   "cell_type": "markdown",
   "metadata": {},
   "source": [
    "* Gli unici parametri sono ora lo stato iniziale ed il numero di passi\n",
    "* La transizione di stato viene gestita da `nextState`\n",
    "* Perché il codice funzioni, la classe usata per rappresentare lo stato\n",
    "* ...Deve avere un metodo `nextState`"
   ]
  },
  {
   "cell_type": "markdown",
   "metadata": {
    "slideshow": {
     "slide_type": "subslide"
    }
   },
   "source": [
    "## Esempio: Crescita Logistica\n",
    "\n",
    "**Vediamo ora come combinare le cose**"
   ]
  },
  {
   "cell_type": "code",
   "execution_count": 6,
   "metadata": {},
   "outputs": [
    {
     "name": "stdout",
     "output_type": "stream",
     "text": [
      "LogiState(x=0.5, r=1.4, N=1)\n",
      "LogiState(x=0.35, r=1.4, N=1)\n",
      "LogiState(x=0.31849999999999995, r=1.4, N=1)\n",
      "LogiState(x=0.3038808499999999, r=1.4, N=1)\n",
      "LogiState(x=0.29615219060458847, r=1.4, N=1)\n"
     ]
    }
   ],
   "source": [
    "x0 = LogiState(x=0.5, r=1.4, N=1)\n",
    "n = 4\n",
    "\n",
    "states = simulate(x0, n)\n",
    "for x in states:\n",
    "    print(x) # La stringa stampata viene ottenuta con __repr__"
   ]
  },
  {
   "cell_type": "markdown",
   "metadata": {},
   "source": [
    "* Per gestire un nuovo modello basta sostituire `LogiState`\n",
    "* ...Mentre il codice di `simulate` va bene così com'è"
   ]
  },
  {
   "cell_type": "markdown",
   "metadata": {
    "slideshow": {
     "slide_type": "subslide"
    }
   },
   "source": [
    "## Esempio: Crescita Logistica\n",
    "\n",
    "**Per sfruttare al massimo il livello di indipendenza ottenuta**\n",
    "\n",
    "...Conviene dividere il codice in due moduli\n",
    "\n",
    "* Nel modulo `example.sim.py` mettiamo [il codice di simulate](http://127.0.0.1:8888/edit/sol/simulate.py)\n",
    "* Nel modulo `example.logi.py` mettiamo [il codice di LogiState](http://127.0.0.1:8888/edit/sol/logi.py)\n",
    "\n",
    "**Ora possiamo sfrutta i moduli come segue:**"
   ]
  },
  {
   "cell_type": "code",
   "execution_count": 8,
   "metadata": {},
   "outputs": [
    {
     "name": "stdout",
     "output_type": "stream",
     "text": [
      "The autoreload extension is already loaded. To reload it, use:\n",
      "  %reload_ext autoreload\n",
      "LogiState(x=0.5, r=1.4, N=1)\n",
      "LogiState(x=0.35, r=1.4, N=1)\n",
      "LogiState(x=0.31849999999999995, r=1.4, N=1)\n",
      "LogiState(x=0.3038808499999999, r=1.4, N=1)\n"
     ]
    }
   ],
   "source": [
    "%load_ext autoreload\n",
    "%autoreload 2\n",
    "from example import logi, sim # Si possono importare più moduli con una riga sola\n",
    "\n",
    "x0 = logi.LogiState(x=0.5, r=1.4, N=1)\n",
    "states = sim.simulate(x0, n=3)\n",
    "for x in states:\n",
    "    print(x) # La stringa stampata viene ottenuta con __repr__"
   ]
  },
  {
   "cell_type": "markdown",
   "metadata": {
    "slideshow": {
     "slide_type": "subslide"
    }
   },
   "source": [
    "## Esempio: Crescita Logistica\n",
    "\n",
    "**Possiamo separare in modo simile il codice di disegno:**\n",
    "\n",
    "Nel modulo `example.sim.py` aggiungiamo la funzione:\n",
    "\n",
    "```python\n",
    "def plot_sim(x, title=None, figsize=(20, 4)):\n",
    "    plt.figure(figsize=figsize)\n",
    "    plt.plot(range(len(x)), x)\n",
    "    if title is not None:\n",
    "        plt.title(title)\n",
    "    plt.show()\n",
    "```"
   ]
  },
  {
   "cell_type": "markdown",
   "metadata": {},
   "source": [
    "* Invocandola possimo ottenre il solito grafico con l'andamento della popolazione\n",
    "* Opzionalmente possiamo specificare titolo e dimensione"
   ]
  },
  {
   "cell_type": "markdown",
   "metadata": {
    "slideshow": {
     "slide_type": "subslide"
    }
   },
   "source": [
    "## Esempio: Crescita Logistica\n",
    "\n",
    "**Vediamo il codice completo**"
   ]
  },
  {
   "cell_type": "code",
   "execution_count": 10,
   "metadata": {},
   "outputs": [
    {
     "name": "stdout",
     "output_type": "stream",
     "text": [
      "The autoreload extension is already loaded. To reload it, use:\n",
      "  %reload_ext autoreload\n"
     ]
    },
    {
     "data": {
      "image/png": "[encoded data removed]",
      "text/plain": [
       "<Figure size 1440x288 with 1 Axes>"
      ]
     },
     "metadata": {
      "needs_background": "light"
     },
     "output_type": "display_data"
    }
   ],
   "source": [
    "%load_ext autoreload\n",
    "%autoreload 2\n",
    "from example import logi, sim # Si possono importare più moduli con una riga sola\n",
    "\n",
    "r = 1.4\n",
    "x0 = logi.LogiState(x=0.5, r=r, N=1)\n",
    "states = sim.simulate(x0, n=20)\n",
    "X = [state.x for state in states]\n",
    "sim.plot_sim(X, title=f'Crescita logistica, r = {r}')"
   ]
  },
  {
   "cell_type": "markdown",
   "metadata": {
    "slideshow": {
     "slide_type": "subslide"
    }
   },
   "source": [
    "## Duck Typing\n",
    "\n",
    "**Il nostro codice funziona perché Python non fa alcun controllo sui tipi**\n",
    "\n",
    "```python\n",
    "def simulate(x0, n):\n",
    "    res = [x0]\n",
    "    for i in range(1, n+1):\n",
    "        xnext = res[-1].nextState() # Ottenfo il prossimo stato\n",
    "        res.append(xnext) # Memorizzo lo stato\n",
    "    return res\n",
    "```\n",
    "\n",
    "* Nel nostro esempio, il metodo `nextState`\n",
    "* ...Viene invocato sull'oggetto restituito da `res[-1]`\n",
    "* Se il metodo esiste, tutto va bene\n",
    "* Se il metodo non esiste, verrà sollevato un errore"
   ]
  },
  {
   "cell_type": "markdown",
   "metadata": {
    "slideshow": {
     "slide_type": "subslide"
    }
   },
   "source": [
    "## Duck Typing\n",
    "\n",
    "**Ogni classe che esibisce `nextState` è trattata come uno stato**\n",
    "\n",
    "L'espressione tipica in letteratura è:\n",
    "\n",
    "* Se cammina come un'anatra e starnazza come un'anatra\n",
    "* ...Allora è un'anatra\n",
    "\n",
    "Per questa ragione il comportamento è noto come [Duck Typing](https://en.wikipedia.org/wiki/Duck_typing)\n",
    "\n",
    "**Nel corso ne faremo uso in varie occasioni**"
   ]
  }
 ],
 "metadata": {
  "celltoolbar": "Slideshow",
  "kernelspec": {
   "display_name": "Python 3 (ipykernel)",
   "language": "python",
   "name": "python3"
  },
  "language_info": {
   "codemirror_mode": {
    "name": "ipython",
    "version": 3
   },
   "file_extension": ".py",
   "mimetype": "text/x-python",
   "name": "python",
   "nbconvert_exporter": "python",
   "pygments_lexer": "ipython3",
   "version": "3.9.5"
  },
  "rise": {
   "center": false,
   "enable_chalkboard": true,
   "transition": "fade"
  }
 },
 "nbformat": 4,
 "nbformat_minor": 4
}
