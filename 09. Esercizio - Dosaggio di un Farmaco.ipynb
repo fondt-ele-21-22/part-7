{
 "cells": [
  {
   "cell_type": "markdown",
   "metadata": {},
   "source": [
    "## Esercizio: Dosaggio di un Farmaco\n",
    "\n",
    "**Consideriamo il problema di dosare un farmaco**\n",
    "\n",
    "Iniziamo modellando il comportamento per una sola dose\n",
    "\n",
    "* La quantità $x_k$ del farmaco in circolo decade esponenzialmente\n",
    "* ...Quindi la quantità di farmaco segue la ricorsione:\n",
    "\n",
    "$$\n",
    "x_{k+1} = \\alpha x_k \\quad \\Rightarrow \\quad x_{m} = \\alpha^m x_0\n",
    "$$\n",
    "\n",
    "* Il farmaco ha un'emi-vita di $m$ (si dimezza dopo $m$ passi)\n",
    "* ...Quindi il valore di $\\alpha$ può essere ottenuto come segue:\n",
    "\n",
    "$$\n",
    "\\alpha^m = \\frac{1}{2} \\quad \\Rightarrow \\quad \\alpha = \\frac{1}{2}^{1/m} \n",
    "$$\n",
    "\n"
   ]
  },
  {
   "cell_type": "markdown",
   "metadata": {
    "slideshow": {
     "slide_type": "subslide"
    }
   },
   "source": [
    "## Esercizio: Dosaggio di un Farmaco\n",
    "\n",
    "**Nel modulo `sol.dd.py`, si definisca la classe:**\n",
    "\n",
    "```python\n",
    "class DrugState:\n",
    "    def __init__(self, x=0, half_life=1): ...\n",
    "    \n",
    "    def nextState(self): ...\n",
    "    \n",
    "    def __repr__(self): ...\n",
    "```\n",
    "\n",
    "Che rappresenti uno stato del modello del farmaco\n",
    "\n",
    "* Al momento della costruzione, viene fornito il valore dell'emi-vita (`half_life`)\n",
    "* ...Il valore di $\\alpha$ può essere ricavato di conseguenza"
   ]
  },
  {
   "cell_type": "markdown",
   "metadata": {
    "slideshow": {
     "slide_type": "subslide"
    }
   },
   "source": [
    "## Esercizio: Dosaggio di un Farmaco\n",
    "\n",
    "**Si collaudi la classe nella cella seguente**"
   ]
  },
  {
   "cell_type": "code",
   "execution_count": 1,
   "metadata": {},
   "outputs": [],
   "source": [
    "%load_ext autoreload\n",
    "%autoreload 2"
   ]
  },
  {
   "cell_type": "markdown",
   "metadata": {
    "slideshow": {
     "slide_type": "subslide"
    }
   },
   "source": [
    "## Esercizio: Dosaggio di un Farmaco\n",
    "\n",
    "**Si disegni l'andamento nel tempo della quantità del farmaco $x$**\n",
    "\n",
    "* Allo scopo, si utilizzino le funzioni `simulate` e `plot_sim` dal modulo `example`\n",
    "* Come valore iniziale, si utilizzi $x_0 = 1$. Si simulino 72 unità di tempo"
   ]
  },
  {
   "cell_type": "code",
   "execution_count": null,
   "metadata": {},
   "outputs": [],
   "source": []
  },
  {
   "cell_type": "markdown",
   "metadata": {
    "slideshow": {
     "slide_type": "subslide"
    }
   },
   "source": [
    "## Esercizio: Dosaggio di un Farmaco\n",
    "\n",
    "**Si assuma che il farmaco venga ri-somministrato regolarmente**\n",
    "\n",
    "* In particolare, ogni $t$ unità di tempo (all'inizio dell'unità)\n",
    "* ...Viene assunta una nuova dose $d$\n",
    "\n",
    "**Possiamo gestire questa variante modificando la definizione di stato**\n",
    "\n",
    "* Lo stato del nostro sistema è ora descritto dalla quantità $x_k$\n",
    "* ...Ma anche dal tempo corrente $k$\n",
    "\n",
    "**Il comportamento è ora definito dalla ricorsione:**\n",
    "\n",
    "$$\n",
    "(x_{k+1}, k+1) = \\left\\{\\begin{aligned}\n",
    "& \\alpha x_k + d& \\text{se $(k+1) \\mod t = 0$} \\\\\n",
    "& \\alpha x_k & \\text{altrimenti}\n",
    "\\end{aligned}\\right.\n",
    "$$"
   ]
  },
  {
   "cell_type": "markdown",
   "metadata": {
    "slideshow": {
     "slide_type": "subslide"
    }
   },
   "source": [
    "## Esercizio: Dosaggio di un Farmaco\n",
    "\n",
    "**Nel modulo `sol.dd.py`, si definisca la classe:**\n",
    "\n",
    "```python\n",
    "class DrugState2:\n",
    "    def __init__(self, x=0, k=0, half_life=1, dose=1, period=8): ...\n",
    "    \n",
    "    def nextState(self): ...\n",
    "    \n",
    "    def __repr__(self): ...\n",
    "```\n",
    "\n",
    "Che rappresenti uno stato del modello del farmaco (con ri-somministrazione)\n",
    "\n",
    "* Il valore del tempo `k` è una seconda componente dello stato\n",
    "* Il parametro `period` indica il periodo $t$ di ri-somministrazione\n",
    "* Il parametro `dose` indica la dose $d$ ri-somministrata"
   ]
  },
  {
   "cell_type": "markdown",
   "metadata": {
    "slideshow": {
     "slide_type": "subslide"
    }
   },
   "source": [
    "## Esercizio: Dosaggio di un Farmaco\n",
    "\n",
    "**Si collaudi la classe nella cella seguente**"
   ]
  },
  {
   "cell_type": "code",
   "execution_count": 2,
   "metadata": {},
   "outputs": [
    {
     "name": "stdout",
     "output_type": "stream",
     "text": [
      "The autoreload extension is already loaded. To reload it, use:\n",
      "  %reload_ext autoreload\n"
     ]
    }
   ],
   "source": [
    "%load_ext autoreload\n",
    "%autoreload 2"
   ]
  },
  {
   "cell_type": "markdown",
   "metadata": {
    "slideshow": {
     "slide_type": "subslide"
    }
   },
   "source": [
    "## Esercizio: Dosaggio di un Farmaco\n",
    "\n",
    "**Si disegni l'andamento nel tempo della quantità del farmaco $x$**\n",
    "\n",
    "* Allo scopo, si utilizzino le funzioni `simulate` e `plot_sim` dal modulo `example`\n",
    "* Come valore iniziale, si utilizzi $x_0 = 1$ e $k = 0$. Si simulino 144 unità di tempo\n",
    "* Utilizzando una dose $d = 1$ e $m = 4$, si osservi cosa succede cambiando il periodo $t$"
   ]
  },
  {
   "cell_type": "code",
   "execution_count": null,
   "metadata": {},
   "outputs": [],
   "source": []
  }
 ],
 "metadata": {
  "celltoolbar": "Slideshow",
  "kernelspec": {
   "display_name": "Python 3 (ipykernel)",
   "language": "python",
   "name": "python3"
  },
  "language_info": {
   "codemirror_mode": {
    "name": "ipython",
    "version": 3
   },
   "file_extension": ".py",
   "mimetype": "text/x-python",
   "name": "python",
   "nbconvert_exporter": "python",
   "pygments_lexer": "ipython3",
   "version": "3.9.5"
  },
  "rise": {
   "center": false,
   "enable_chalkboard": true,
   "transition": "fade"
  }
 },
 "nbformat": 4,
 "nbformat_minor": 4
}
