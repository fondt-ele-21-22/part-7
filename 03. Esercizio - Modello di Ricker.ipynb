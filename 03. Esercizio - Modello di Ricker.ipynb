{
 "cells": [
  {
   "cell_type": "markdown",
   "metadata": {
    "slideshow": {
     "slide_type": "subslide"
    }
   },
   "source": [
    "## Esercizio: Modello di Ricker\n",
    "\n",
    "**Il modello di popolazione _Ricker_ è definito dalla ricorsione:**\n",
    "\n",
    "$$\n",
    "x_{k+1} = x_k e^{r\\left(1 - \\frac{x_k}{N}\\right)}\n",
    "$$\n",
    "\n",
    "* Dove:\n",
    "  - $x_k$ è il valore della popolazione al passo $k$\n",
    "  - $r \\in [1, 2]$ è il tasso di crescita\n",
    "  - $N$ è la massima popolazione sostenibile"
   ]
  },
  {
   "cell_type": "markdown",
   "metadata": {
    "slideshow": {
     "slide_type": "subslide"
    }
   },
   "source": [
    "## Esercizio: Modello di Ricker\n",
    "\n",
    "**Nel modulo `sol.ricker.py`, si definisca la classe:**\n",
    "\n",
    "```python\n",
    "class RickerState:\n",
    "    def __init__(self, x, r, N=1): ...\n",
    "    \n",
    "    def nextState(self): ...\n",
    "    \n",
    "    def __repr__(self): ...\n",
    "```\n",
    "\n",
    "* Che rappresenti uno stato del modello di Ricker\n",
    "* ...Utilizzando l'approccio già visto per la crescita logistica\n",
    "\n",
    "**Si collaudi la classe nella cella seguente**"
   ]
  },
  {
   "cell_type": "code",
   "execution_count": 1,
   "metadata": {},
   "outputs": [],
   "source": [
    "%load_ext autoreload\n",
    "%autoreload 2"
   ]
  },
  {
   "cell_type": "markdown",
   "metadata": {
    "slideshow": {
     "slide_type": "subslide"
    }
   },
   "source": [
    "## Esercizio: Modello di Ricker\n",
    "\n",
    "**Utilizzando i valori suggeriti, si disegni l'andamento della popolazione**\n",
    "\n",
    "Allo scopo, si utilizzino le funzioni `simulate` e `plot_sim` dal modulo `example.sim.py`"
   ]
  },
  {
   "cell_type": "code",
   "execution_count": 2,
   "metadata": {},
   "outputs": [],
   "source": [
    "x0 = 0.5\n",
    "r = 1.8\n",
    "N = 1\n",
    "n = 100"
   ]
  }
 ],
 "metadata": {
  "celltoolbar": "Slideshow",
  "kernelspec": {
   "display_name": "Python 3 (ipykernel)",
   "language": "python",
   "name": "python3"
  },
  "language_info": {
   "codemirror_mode": {
    "name": "ipython",
    "version": 3
   },
   "file_extension": ".py",
   "mimetype": "text/x-python",
   "name": "python",
   "nbconvert_exporter": "python",
   "pygments_lexer": "ipython3",
   "version": "3.9.5"
  },
  "rise": {
   "center": false,
   "enable_chalkboard": true,
   "transition": "fade"
  }
 },
 "nbformat": 4,
 "nbformat_minor": 4
}
