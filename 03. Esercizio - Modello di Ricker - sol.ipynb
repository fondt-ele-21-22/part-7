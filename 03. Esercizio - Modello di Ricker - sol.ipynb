{
 "cells": [
  {
   "cell_type": "markdown",
   "metadata": {
    "slideshow": {
     "slide_type": "subslide"
    }
   },
   "source": [
    "## Esercizio: Modello di Ricker\n",
    "\n",
    "**Il modello di popolazione _Ricker_ è definito dalla ricorsione:**\n",
    "\n",
    "$$\n",
    "x_{k+1} = x_k e^{r\\left(1 - \\frac{x_k}{N}\\right)}\n",
    "$$\n",
    "\n",
    "* Dove:\n",
    "  - $x_k$ è il valore della popolazione al passo $k$\n",
    "  - $r \\in [1, 2]$ è il tasso di crescita\n",
    "  - $N$ è la massima popolazione sostenibile"
   ]
  },
  {
   "cell_type": "markdown",
   "metadata": {
    "slideshow": {
     "slide_type": "subslide"
    }
   },
   "source": [
    "## Esercizio: Modello di Ricker\n",
    "\n",
    "**Nel modulo `sol.ricker.py`, si definisca la classe:**\n",
    "\n",
    "```python\n",
    "class RickerState:\n",
    "    def __init__(self, x, r, N=1): ...\n",
    "    \n",
    "    def nextState(self): ...\n",
    "    \n",
    "    def __repr__(self): ...\n",
    "```\n",
    "\n",
    "* Che rappresenti uno stato del modello di Ricker\n",
    "* ...Utilizzando l'approccio già visto per la crescita logistica\n",
    "\n",
    "**Si collaudi la classe nella cella seguente**"
   ]
  },
  {
   "cell_type": "code",
   "execution_count": 1,
   "metadata": {},
   "outputs": [
    {
     "data": {
      "text/plain": [
       "RickerState(x=0.2, r=1.3, N=1)"
      ]
     },
     "execution_count": 1,
     "metadata": {},
     "output_type": "execute_result"
    }
   ],
   "source": [
    "%load_ext autoreload\n",
    "%autoreload 2\n",
    "from sol import ricker\n",
    "\n",
    "x0, r, N = 0.2, 1.3, 1\n",
    "\n",
    "ricker.RickerState(x=x0, r=r, N=N)"
   ]
  },
  {
   "cell_type": "markdown",
   "metadata": {
    "slideshow": {
     "slide_type": "subslide"
    }
   },
   "source": [
    "## Esercizio: Modello di Ricker\n",
    "\n",
    "**Utilizzando i valori suggeriti, si disegni l'andamento della popolazione**\n",
    "\n",
    "Allo scopo, si utilizzino le funzioni `simulate` e `plot_sim` dal modulo `example.sim.py`"
   ]
  },
  {
   "cell_type": "code",
   "execution_count": 2,
   "metadata": {},
   "outputs": [
    {
     "data": {
      "image/png": "[encoded data removed]",
      "text/plain": [
       "<Figure size 1440x288 with 1 Axes>"
      ]
     },
     "metadata": {
      "needs_background": "light"
     },
     "output_type": "display_data"
    }
   ],
   "source": [
    "from sol import ricker # Si possono importare più moduli con una riga sola\n",
    "from example import sim\n",
    "\n",
    "x0 = 0.5\n",
    "r = 1.8\n",
    "N = 1\n",
    "n = 100\n",
    "\n",
    "x0 = ricker.RickerState(x=x0, r=r, N=N)\n",
    "states = sim.simulate(x0, n=n)\n",
    "X = [state.x for state in states]\n",
    "sim.plot_sim(X, title=f'Modello di Ricker, r = {r}')"
   ]
  }
 ],
 "metadata": {
  "celltoolbar": "Slideshow",
  "kernelspec": {
   "display_name": "Python 3 (ipykernel)",
   "language": "python",
   "name": "python3"
  },
  "language_info": {
   "codemirror_mode": {
    "name": "ipython",
    "version": 3
   },
   "file_extension": ".py",
   "mimetype": "text/x-python",
   "name": "python",
   "nbconvert_exporter": "python",
   "pygments_lexer": "ipython3",
   "version": "3.9.5"
  },
  "rise": {
   "center": false,
   "enable_chalkboard": true,
   "transition": "fade"
  }
 },
 "nbformat": 4,
 "nbformat_minor": 4
}
